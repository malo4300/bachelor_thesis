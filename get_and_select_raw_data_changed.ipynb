{
 "cells": [
  {
   "cell_type": "markdown",
   "id": "2ce90d20",
   "metadata": {},
   "source": [
    "* This notebook download raw data from WRDS and organize the data. Output of this notebook can be used by `constructed_input_price_and_cashflow.ipynb` to construct price vectors and cashflow matrices.\n",
    "* A WRDS account is needed to access CRSP data through WRDS.\n",
    "* Filters applied in this notebook:\n",
    "    * Only includes fully taxable, non-callable, and non-flower bond issues. \n",
    "    * Certificates of deposit are excluded (ITYPE=3)\n",
    "    * Remove issues whose time series of prices terminate because of ''all exchanged'' (IWHY=3)"
   ]
  },
  {
   "cell_type": "code",
   "execution_count": 1,
   "id": "40781160",
   "metadata": {},
   "outputs": [],
   "source": [
    "import pandas as pd\n",
    "import numpy as np\n",
    "import matplotlib.pyplot as plt\n",
    "import os\n",
    "from tqdm.auto import tqdm"
   ]
  },
  {
   "cell_type": "markdown",
   "id": "00a2ddb0",
   "metadata": {},
   "source": [
    "# Download raw data from WRDS"
   ]
  },
  {
   "cell_type": "code",
   "execution_count": 63,
   "id": "ee0e9688",
   "metadata": {
    "scrolled": true
   },
   "outputs": [
    {
     "name": "stderr",
     "output_type": "stream",
     "text": [
      "D:\\Anaconda\\lib\\site-packages\\IPython\\core\\interactiveshell.py:3165: DtypeWarning: Columns (1,2) have mixed types.Specify dtype option on import or set low_memory=False.\n",
      "  has_raised = await self.run_ast_nodes(code_ast.body, cell_name,\n"
     ]
    }
   ],
   "source": [
    "df_iss = pd.read_csv(\"data/tfz_iss.csv\")\n",
    "df_mast = pd.read_csv(\"data/tfz_mast.csv\")\n",
    "df_pay = pd.read_csv(\"data/tfz_pay.csv\")\n",
    "df_dly = pd.read_csv(\"data/tfz_dly.csv\")"
   ]
  },
  {
   "cell_type": "code",
   "execution_count": 64,
   "id": "e447a98c",
   "metadata": {},
   "outputs": [
    {
     "name": "stdout",
     "output_type": "stream",
     "text": [
      "(157372, 37)\n",
      "(7771, 8)\n",
      "(25454, 4)\n",
      "(19125, 32)\n"
     ]
    },
    {
     "data": {
      "text/plain": [
       "Index(['KYTREASNO', 'KYCRSPID', 'CRSPID', 'TCUSIP', 'TDATDT', 'TMATDT', 'IWHY',\n",
       "       'TCOUPRT', 'TNIPPY', 'TVALFC', 'TFCPDT', 'IFCPDTF', 'TFCALDT',\n",
       "       'TNOTICE', 'IYMCN', 'ITYPE', 'IUNIQ', 'ITAX', 'IFLWR', 'TBANKDT',\n",
       "       'TSTRIPELIG', 'TFRGNTGT', 'MCALDT', 'TMBID', 'TMASK', 'TMNOMPRC',\n",
       "       'TMNOMPRC_FLG', 'TMSOURCR', 'TMACCINT', 'TMRETNUA', 'TMYLD', 'TMDURATN',\n",
       "       'TMTOTOUT', 'TMPUBOUT', 'TMPCYLD', 'TMRETNXS', 'TMPDINT'],\n",
       "      dtype='object')"
      ]
     },
     "execution_count": 64,
     "metadata": {},
     "output_type": "execute_result"
    }
   ],
   "source": [
    "for df in [df_iss, df_mast, df_pay, df_dly]:\n",
    "    print(df.shape)\n",
    "    \n",
    "df_iss.columns"
   ]
  },
  {
   "cell_type": "code",
   "execution_count": 65,
   "id": "772a4b78",
   "metadata": {},
   "outputs": [
    {
     "data": {
      "text/plain": [
       "0               NaN\n",
       "1               NaN\n",
       "2               NaN\n",
       "3               NaN\n",
       "4               NaN\n",
       "            ...    \n",
       "19120    20220630.0\n",
       "19121    20220729.0\n",
       "19122    20220831.0\n",
       "19123    20220930.0\n",
       "19124           NaN\n",
       "Name: MCALDT, Length: 19125, dtype: float64"
      ]
     },
     "execution_count": 65,
     "metadata": {},
     "output_type": "execute_result"
    }
   ],
   "source": [
    "df_dly[\"MCALDT\"]"
   ]
  },
  {
   "cell_type": "markdown",
   "id": "00ab1e73",
   "metadata": {},
   "source": [
    "# Format raw data\n",
    "\n",
    "## Format dataframe containing bond information"
   ]
  },
  {
   "cell_type": "code",
   "execution_count": 13,
   "id": "0f6e25fd",
   "metadata": {},
   "outputs": [
    {
     "data": {
      "text/html": [
       "<div>\n",
       "<style scoped>\n",
       "    .dataframe tbody tr th:only-of-type {\n",
       "        vertical-align: middle;\n",
       "    }\n",
       "\n",
       "    .dataframe tbody tr th {\n",
       "        vertical-align: top;\n",
       "    }\n",
       "\n",
       "    .dataframe thead th {\n",
       "        text-align: right;\n",
       "    }\n",
       "</style>\n",
       "<table border=\"1\" class=\"dataframe\">\n",
       "  <thead>\n",
       "    <tr style=\"text-align: right;\">\n",
       "      <th></th>\n",
       "      <th>KYTREASNO</th>\n",
       "      <th>KYCRSPID</th>\n",
       "      <th>CRSPID</th>\n",
       "      <th>TCUSIP</th>\n",
       "      <th>TDATDT</th>\n",
       "      <th>TMATDT</th>\n",
       "      <th>IWHY</th>\n",
       "      <th>TCOUPRT</th>\n",
       "      <th>TNIPPY</th>\n",
       "      <th>TVALFC</th>\n",
       "      <th>...</th>\n",
       "      <th>TMRETNXS</th>\n",
       "      <th>TMPDINT</th>\n",
       "      <th>TREASNOTYPE</th>\n",
       "      <th>TMFSTDAT</th>\n",
       "      <th>TMLSTDAT</th>\n",
       "      <th>TDFSTDAT</th>\n",
       "      <th>TDLSTDAT</th>\n",
       "      <th>TNAME</th>\n",
       "      <th>TREASSYM</th>\n",
       "      <th>RoundedMaturityYears</th>\n",
       "    </tr>\n",
       "  </thead>\n",
       "  <tbody>\n",
       "    <tr>\n",
       "      <th>0.0</th>\n",
       "      <td>205899</td>\n",
       "      <td>19600204.4</td>\n",
       "      <td>19600204.4</td>\n",
       "      <td>0XX</td>\n",
       "      <td>NaT</td>\n",
       "      <td>1970-01-01 00:00:00.019600204</td>\n",
       "      <td>1.0</td>\n",
       "      <td>0.00</td>\n",
       "      <td>0.0</td>\n",
       "      <td>0.000</td>\n",
       "      <td>...</td>\n",
       "      <td>0.000085</td>\n",
       "      <td>0.0</td>\n",
       "      <td>1.0</td>\n",
       "      <td>1959-08-31</td>\n",
       "      <td>1960-01-29</td>\n",
       "      <td>NaT</td>\n",
       "      <td>NaT</td>\n",
       "      <td>BILL</td>\n",
       "      <td>NaN</td>\n",
       "      <td>NaN</td>\n",
       "    </tr>\n",
       "    <tr>\n",
       "      <th>1.0</th>\n",
       "      <td>205900</td>\n",
       "      <td>19600211.4</td>\n",
       "      <td>19600211.4</td>\n",
       "      <td>0XX</td>\n",
       "      <td>NaT</td>\n",
       "      <td>1970-01-01 00:00:00.019600211</td>\n",
       "      <td>1.0</td>\n",
       "      <td>0.00</td>\n",
       "      <td>0.0</td>\n",
       "      <td>0.000</td>\n",
       "      <td>...</td>\n",
       "      <td>0.000287</td>\n",
       "      <td>0.0</td>\n",
       "      <td>1.0</td>\n",
       "      <td>1959-08-31</td>\n",
       "      <td>1960-01-29</td>\n",
       "      <td>NaT</td>\n",
       "      <td>NaT</td>\n",
       "      <td>BILL</td>\n",
       "      <td>NaN</td>\n",
       "      <td>NaN</td>\n",
       "    </tr>\n",
       "    <tr>\n",
       "      <th>2.0</th>\n",
       "      <td>205901</td>\n",
       "      <td>19600215.30375</td>\n",
       "      <td>19600215.30375</td>\n",
       "      <td>0XX</td>\n",
       "      <td>1970-01-01 00:00:00.019590215</td>\n",
       "      <td>1970-01-01 00:00:00.019600215</td>\n",
       "      <td>1.0</td>\n",
       "      <td>3.75</td>\n",
       "      <td>2.0</td>\n",
       "      <td>1.875</td>\n",
       "      <td>...</td>\n",
       "      <td>0.000425</td>\n",
       "      <td>0.0</td>\n",
       "      <td>1.0</td>\n",
       "      <td>1959-02-27</td>\n",
       "      <td>1960-01-29</td>\n",
       "      <td>NaT</td>\n",
       "      <td>NaT</td>\n",
       "      <td>CTF</td>\n",
       "      <td>NaN</td>\n",
       "      <td>0.0</td>\n",
       "    </tr>\n",
       "    <tr>\n",
       "      <th>3.0</th>\n",
       "      <td>205902</td>\n",
       "      <td>19600215.904</td>\n",
       "      <td>19600215.904</td>\n",
       "      <td>0XX</td>\n",
       "      <td>NaT</td>\n",
       "      <td>1970-01-01 00:00:00.019600215</td>\n",
       "      <td>1.0</td>\n",
       "      <td>4.00</td>\n",
       "      <td>2.0</td>\n",
       "      <td>2.000</td>\n",
       "      <td>...</td>\n",
       "      <td>0.000539</td>\n",
       "      <td>0.0</td>\n",
       "      <td>1.0</td>\n",
       "      <td>1959-11-30</td>\n",
       "      <td>1960-01-29</td>\n",
       "      <td>NaT</td>\n",
       "      <td>NaT</td>\n",
       "      <td>NOTE</td>\n",
       "      <td>NaN</td>\n",
       "      <td>NaN</td>\n",
       "    </tr>\n",
       "    <tr>\n",
       "      <th>4.0</th>\n",
       "      <td>205903</td>\n",
       "      <td>19600218.4</td>\n",
       "      <td>19600218.4</td>\n",
       "      <td>0XX</td>\n",
       "      <td>NaT</td>\n",
       "      <td>1970-01-01 00:00:00.019600218</td>\n",
       "      <td>1.0</td>\n",
       "      <td>0.00</td>\n",
       "      <td>0.0</td>\n",
       "      <td>0.000</td>\n",
       "      <td>...</td>\n",
       "      <td>0.000493</td>\n",
       "      <td>0.0</td>\n",
       "      <td>1.0</td>\n",
       "      <td>1959-08-31</td>\n",
       "      <td>1960-01-29</td>\n",
       "      <td>NaT</td>\n",
       "      <td>NaT</td>\n",
       "      <td>BILL</td>\n",
       "      <td>NaN</td>\n",
       "      <td>NaN</td>\n",
       "    </tr>\n",
       "  </tbody>\n",
       "</table>\n",
       "<p>5 rows × 45 columns</p>\n",
       "</div>"
      ],
      "text/plain": [
       "     KYTREASNO        KYCRSPID          CRSPID TCUSIP  \\\n",
       "0.0     205899      19600204.4      19600204.4    0XX   \n",
       "1.0     205900      19600211.4      19600211.4    0XX   \n",
       "2.0     205901  19600215.30375  19600215.30375    0XX   \n",
       "3.0     205902    19600215.904    19600215.904    0XX   \n",
       "4.0     205903      19600218.4      19600218.4    0XX   \n",
       "\n",
       "                           TDATDT                        TMATDT  IWHY  \\\n",
       "0.0                           NaT 1970-01-01 00:00:00.019600204   1.0   \n",
       "1.0                           NaT 1970-01-01 00:00:00.019600211   1.0   \n",
       "2.0 1970-01-01 00:00:00.019590215 1970-01-01 00:00:00.019600215   1.0   \n",
       "3.0                           NaT 1970-01-01 00:00:00.019600215   1.0   \n",
       "4.0                           NaT 1970-01-01 00:00:00.019600218   1.0   \n",
       "\n",
       "     TCOUPRT  TNIPPY  TVALFC  ...  TMRETNXS  TMPDINT TREASNOTYPE   TMFSTDAT  \\\n",
       "0.0     0.00     0.0   0.000  ...  0.000085      0.0         1.0 1959-08-31   \n",
       "1.0     0.00     0.0   0.000  ...  0.000287      0.0         1.0 1959-08-31   \n",
       "2.0     3.75     2.0   1.875  ...  0.000425      0.0         1.0 1959-02-27   \n",
       "3.0     4.00     2.0   2.000  ...  0.000539      0.0         1.0 1959-11-30   \n",
       "4.0     0.00     0.0   0.000  ...  0.000493      0.0         1.0 1959-08-31   \n",
       "\n",
       "      TMLSTDAT  TDFSTDAT  TDLSTDAT  TNAME  TREASSYM RoundedMaturityYears  \n",
       "0.0 1960-01-29       NaT       NaT   BILL       NaN                  NaN  \n",
       "1.0 1960-01-29       NaT       NaT   BILL       NaN                  NaN  \n",
       "2.0 1960-01-29       NaT       NaT    CTF       NaN                  0.0  \n",
       "3.0 1960-01-29       NaT       NaT   NOTE       NaN                  NaN  \n",
       "4.0 1960-01-29       NaT       NaT   BILL       NaN                  NaN  \n",
       "\n",
       "[5 rows x 45 columns]"
      ]
     },
     "metadata": {},
     "output_type": "display_data"
    }
   ],
   "source": [
    "# change all column names to upper case\n",
    "for df in [df_iss, df_mast, df_pay, df_dly]:\n",
    "    df.columns = [col.upper() for col in df.columns]\n",
    "\n",
    "# merge df_iss and df_mast into df_info, containing bond information\n",
    "df_info=df_iss.join(df_mast.set_index('KYTREASNO'),on='KYTREASNO',how='outer')\n",
    "\n",
    "# convert all date into pandas datetime format\n",
    "for col in ['TDATDT','TMATDT','TFCPDT','TFCALDT','TBANKDT','TMFSTDAT',\n",
    "            'TMLSTDAT','TDFSTDAT','TDLSTDAT']:\n",
    "    df_info[col]=pd.to_datetime(df_info[col],format='%Y-%m-%d')\n",
    "    \n",
    "# calculate rounded maturity, rounded to the nearest year. This is for filtering later on. \n",
    "df_info['RoundedMaturityYears']=np.round(((df_info['TMATDT']-df_info['TDATDT']).copy()\\\n",
    "                                          /np.timedelta64(1, 'Y')).values)\n",
    "display(df_info.head())"
   ]
  },
  {
   "cell_type": "code",
   "execution_count": 39,
   "id": "03a6ccac",
   "metadata": {},
   "outputs": [
    {
     "data": {
      "text/plain": [
       "125936"
      ]
     },
     "execution_count": 39,
     "metadata": {},
     "output_type": "execute_result"
    }
   ],
   "source": [
    "sum(df_info.IWHY == 1)"
   ]
  },
  {
   "cell_type": "markdown",
   "id": "2f85bca8",
   "metadata": {},
   "source": [
    "## Format daily prices"
   ]
  },
  {
   "cell_type": "code",
   "execution_count": 33,
   "id": "6ce2daa9",
   "metadata": {},
   "outputs": [
    {
     "name": "stdout",
     "output_type": "stream",
     "text": [
      "Number of KYTREASNO with price data: 88\n",
      "Number of KYTREASNO with info record: 159305\n",
      "Number of KYTREASNO in the intersection: 88\n"
     ]
    },
    {
     "data": {
      "text/html": [
       "<div>\n",
       "<style scoped>\n",
       "    .dataframe tbody tr th:only-of-type {\n",
       "        vertical-align: middle;\n",
       "    }\n",
       "\n",
       "    .dataframe tbody tr th {\n",
       "        vertical-align: top;\n",
       "    }\n",
       "\n",
       "    .dataframe thead th {\n",
       "        text-align: right;\n",
       "    }\n",
       "</style>\n",
       "<table border=\"1\" class=\"dataframe\">\n",
       "  <thead>\n",
       "    <tr style=\"text-align: right;\">\n",
       "      <th></th>\n",
       "      <th>KYTREASNOX</th>\n",
       "      <th>TIDXFAM</th>\n",
       "      <th>TTERMTYPE</th>\n",
       "      <th>TTERMLBL</th>\n",
       "      <th>MCALDT</th>\n",
       "      <th>RMTREASNO</th>\n",
       "      <th>RMTREASNO_FLG</th>\n",
       "      <th>RMCRSPID</th>\n",
       "      <th>RMCRSPID_FLG</th>\n",
       "      <th>TMBID</th>\n",
       "      <th>...</th>\n",
       "      <th>TMAVEFWD4</th>\n",
       "      <th>TMDURFWD4</th>\n",
       "      <th>TMBIDHLD1</th>\n",
       "      <th>TMASKHLD1</th>\n",
       "      <th>TMAVEHLD1</th>\n",
       "      <th>TMDURHLD1</th>\n",
       "      <th>TMBIDHLD4</th>\n",
       "      <th>TMASKHLD4</th>\n",
       "      <th>TMAVEHLD4</th>\n",
       "      <th>TMDURHLD4</th>\n",
       "    </tr>\n",
       "  </thead>\n",
       "  <tbody>\n",
       "    <tr>\n",
       "      <th>0</th>\n",
       "      <td>2000001</td>\n",
       "      <td>RISKFREE</td>\n",
       "      <td>30</td>\n",
       "      <td>CRSP Risk Free Rates - 1-Month (Nominal)</td>\n",
       "      <td>NaT</td>\n",
       "      <td>NaN</td>\n",
       "      <td>NaN</td>\n",
       "      <td>NaN</td>\n",
       "      <td>NaN</td>\n",
       "      <td>NaN</td>\n",
       "      <td>...</td>\n",
       "      <td>NaN</td>\n",
       "      <td>NaN</td>\n",
       "      <td>NaN</td>\n",
       "      <td>NaN</td>\n",
       "      <td>NaN</td>\n",
       "      <td>NaN</td>\n",
       "      <td>NaN</td>\n",
       "      <td>NaN</td>\n",
       "      <td>NaN</td>\n",
       "      <td>NaN</td>\n",
       "    </tr>\n",
       "    <tr>\n",
       "      <th>1</th>\n",
       "      <td>2000002</td>\n",
       "      <td>RISKFREE</td>\n",
       "      <td>90</td>\n",
       "      <td>CRSP Risk Free Rates - 3-Month (Nominal)</td>\n",
       "      <td>NaT</td>\n",
       "      <td>NaN</td>\n",
       "      <td>NaN</td>\n",
       "      <td>NaN</td>\n",
       "      <td>NaN</td>\n",
       "      <td>NaN</td>\n",
       "      <td>...</td>\n",
       "      <td>NaN</td>\n",
       "      <td>NaN</td>\n",
       "      <td>NaN</td>\n",
       "      <td>NaN</td>\n",
       "      <td>NaN</td>\n",
       "      <td>NaN</td>\n",
       "      <td>NaN</td>\n",
       "      <td>NaN</td>\n",
       "      <td>NaN</td>\n",
       "      <td>NaN</td>\n",
       "    </tr>\n",
       "    <tr>\n",
       "      <th>2</th>\n",
       "      <td>2000003</td>\n",
       "      <td>FIXEDTERM</td>\n",
       "      <td>112</td>\n",
       "      <td>CRSP Fixed Term Index - 1-Year (Nominal)</td>\n",
       "      <td>NaT</td>\n",
       "      <td>NaN</td>\n",
       "      <td>NaN</td>\n",
       "      <td>NaN</td>\n",
       "      <td>NaN</td>\n",
       "      <td>NaN</td>\n",
       "      <td>...</td>\n",
       "      <td>NaN</td>\n",
       "      <td>NaN</td>\n",
       "      <td>NaN</td>\n",
       "      <td>NaN</td>\n",
       "      <td>NaN</td>\n",
       "      <td>NaN</td>\n",
       "      <td>NaN</td>\n",
       "      <td>NaN</td>\n",
       "      <td>NaN</td>\n",
       "      <td>NaN</td>\n",
       "    </tr>\n",
       "    <tr>\n",
       "      <th>3</th>\n",
       "      <td>2000004</td>\n",
       "      <td>FIXEDTERM</td>\n",
       "      <td>212</td>\n",
       "      <td>CRSP Fixed Term Index - 2-Year (Nominal)</td>\n",
       "      <td>NaT</td>\n",
       "      <td>NaN</td>\n",
       "      <td>NaN</td>\n",
       "      <td>NaN</td>\n",
       "      <td>NaN</td>\n",
       "      <td>NaN</td>\n",
       "      <td>...</td>\n",
       "      <td>NaN</td>\n",
       "      <td>NaN</td>\n",
       "      <td>NaN</td>\n",
       "      <td>NaN</td>\n",
       "      <td>NaN</td>\n",
       "      <td>NaN</td>\n",
       "      <td>NaN</td>\n",
       "      <td>NaN</td>\n",
       "      <td>NaN</td>\n",
       "      <td>NaN</td>\n",
       "    </tr>\n",
       "    <tr>\n",
       "      <th>4</th>\n",
       "      <td>2000005</td>\n",
       "      <td>FIXEDTERM</td>\n",
       "      <td>512</td>\n",
       "      <td>CRSP Fixed Term Index - 5-Year (Nominal)</td>\n",
       "      <td>NaT</td>\n",
       "      <td>NaN</td>\n",
       "      <td>NaN</td>\n",
       "      <td>NaN</td>\n",
       "      <td>NaN</td>\n",
       "      <td>NaN</td>\n",
       "      <td>...</td>\n",
       "      <td>NaN</td>\n",
       "      <td>NaN</td>\n",
       "      <td>NaN</td>\n",
       "      <td>NaN</td>\n",
       "      <td>NaN</td>\n",
       "      <td>NaN</td>\n",
       "      <td>NaN</td>\n",
       "      <td>NaN</td>\n",
       "      <td>NaN</td>\n",
       "      <td>NaN</td>\n",
       "    </tr>\n",
       "  </tbody>\n",
       "</table>\n",
       "<p>5 rows × 32 columns</p>\n",
       "</div>"
      ],
      "text/plain": [
       "   KYTREASNOX    TIDXFAM  TTERMTYPE                                  TTERMLBL  \\\n",
       "0     2000001   RISKFREE         30  CRSP Risk Free Rates - 1-Month (Nominal)   \n",
       "1     2000002   RISKFREE         90  CRSP Risk Free Rates - 3-Month (Nominal)   \n",
       "2     2000003  FIXEDTERM        112  CRSP Fixed Term Index - 1-Year (Nominal)   \n",
       "3     2000004  FIXEDTERM        212  CRSP Fixed Term Index - 2-Year (Nominal)   \n",
       "4     2000005  FIXEDTERM        512  CRSP Fixed Term Index - 5-Year (Nominal)   \n",
       "\n",
       "  MCALDT  RMTREASNO RMTREASNO_FLG  RMCRSPID RMCRSPID_FLG  TMBID  ...  \\\n",
       "0    NaT        NaN           NaN       NaN          NaN    NaN  ...   \n",
       "1    NaT        NaN           NaN       NaN          NaN    NaN  ...   \n",
       "2    NaT        NaN           NaN       NaN          NaN    NaN  ...   \n",
       "3    NaT        NaN           NaN       NaN          NaN    NaN  ...   \n",
       "4    NaT        NaN           NaN       NaN          NaN    NaN  ...   \n",
       "\n",
       "   TMAVEFWD4  TMDURFWD4  TMBIDHLD1  TMASKHLD1  TMAVEHLD1  TMDURHLD1  \\\n",
       "0        NaN        NaN        NaN        NaN        NaN        NaN   \n",
       "1        NaN        NaN        NaN        NaN        NaN        NaN   \n",
       "2        NaN        NaN        NaN        NaN        NaN        NaN   \n",
       "3        NaN        NaN        NaN        NaN        NaN        NaN   \n",
       "4        NaN        NaN        NaN        NaN        NaN        NaN   \n",
       "\n",
       "   TMBIDHLD4  TMASKHLD4  TMAVEHLD4  TMDURHLD4  \n",
       "0        NaN        NaN        NaN        NaN  \n",
       "1        NaN        NaN        NaN        NaN  \n",
       "2        NaN        NaN        NaN        NaN  \n",
       "3        NaN        NaN        NaN        NaN  \n",
       "4        NaN        NaN        NaN        NaN  \n",
       "\n",
       "[5 rows x 32 columns]"
      ]
     },
     "metadata": {},
     "output_type": "display_data"
    }
   ],
   "source": [
    "# replace missing values in df_dly\n",
    "#df_dly.TDRETNUA.replace(-99,np.nan,inplace=True)\n",
    "#df_dly.TDYLD.replace(-99,np.nan,inplace=True)\n",
    "#df_dly.TDDURATN.replace(-1,np.nan,inplace=True)\n",
    "#df_dly.TDBID.replace(0,np.nan,inplace=True)\n",
    "#df_dly.TDASK.replace(0,np.nan,inplace=True)\n",
    "#df_dly.TDNOMPRC.replace(0,np.nan,inplace=True)\n",
    "\n",
    "# convert quotation date CALDT into datetime format\n",
    "df_dly['MCALDT']=pd.to_datetime(df_dly['MCALDT'],format='%Y-%m-%d')\n",
    "\n",
    "# slice df_info where KYTREASNO is in df_dly\n",
    "# i.e. retain information of only securities whose prices are available\n",
    "df_info_dly=df_info[df_info.KYTREASNO.isin(df_dly.KYTREASNOX.unique())]\n",
    "print('Number of KYTREASNO with price data: {}\\n'\n",
    "      'Number of KYTREASNO with info record: {}\\n'\n",
    "      'Number of KYTREASNO in the intersection: {}'\\\n",
    "      .format(df_dly.KYTREASNOX.nunique(), len(df_info), len(df_info_dly)))\n",
    "\n",
    "display(df_dly.head())"
   ]
  },
  {
   "cell_type": "markdown",
   "id": "c2887b9c",
   "metadata": {},
   "source": [
    "## Format coupon payment information"
   ]
  },
  {
   "cell_type": "code",
   "execution_count": 19,
   "id": "50cc9ab0",
   "metadata": {},
   "outputs": [
    {
     "data": {
      "text/html": [
       "<div>\n",
       "<style scoped>\n",
       "    .dataframe tbody tr th:only-of-type {\n",
       "        vertical-align: middle;\n",
       "    }\n",
       "\n",
       "    .dataframe tbody tr th {\n",
       "        vertical-align: top;\n",
       "    }\n",
       "\n",
       "    .dataframe thead th {\n",
       "        text-align: right;\n",
       "    }\n",
       "</style>\n",
       "<table border=\"1\" class=\"dataframe\">\n",
       "  <thead>\n",
       "    <tr style=\"text-align: right;\">\n",
       "      <th></th>\n",
       "      <th>KYTREASNO</th>\n",
       "      <th>KYCRSPID</th>\n",
       "      <th>TPQDATE</th>\n",
       "      <th>PDINT</th>\n",
       "    </tr>\n",
       "  </thead>\n",
       "  <tbody>\n",
       "    <tr>\n",
       "      <th>0</th>\n",
       "      <td>205901</td>\n",
       "      <td>1.960022e+07</td>\n",
       "      <td>1970-01-01 00:00:00.019600215</td>\n",
       "      <td>1.8750</td>\n",
       "    </tr>\n",
       "    <tr>\n",
       "      <th>1</th>\n",
       "      <td>205902</td>\n",
       "      <td>1.960022e+07</td>\n",
       "      <td>1970-01-01 00:00:00.019600215</td>\n",
       "      <td>2.0000</td>\n",
       "    </tr>\n",
       "    <tr>\n",
       "      <th>2</th>\n",
       "      <td>205907</td>\n",
       "      <td>1.960032e+07</td>\n",
       "      <td>1970-01-01 00:00:00.019600315</td>\n",
       "      <td>1.4375</td>\n",
       "    </tr>\n",
       "    <tr>\n",
       "      <th>3</th>\n",
       "      <td>205912</td>\n",
       "      <td>1.960040e+07</td>\n",
       "      <td>1970-01-01 00:00:00.019600401</td>\n",
       "      <td>0.7500</td>\n",
       "    </tr>\n",
       "    <tr>\n",
       "      <th>4</th>\n",
       "      <td>205920</td>\n",
       "      <td>1.960052e+07</td>\n",
       "      <td>1970-01-01 00:00:00.019600515</td>\n",
       "      <td>1.6250</td>\n",
       "    </tr>\n",
       "  </tbody>\n",
       "</table>\n",
       "</div>"
      ],
      "text/plain": [
       "   KYTREASNO      KYCRSPID                       TPQDATE   PDINT\n",
       "0     205901  1.960022e+07 1970-01-01 00:00:00.019600215  1.8750\n",
       "1     205902  1.960022e+07 1970-01-01 00:00:00.019600215  2.0000\n",
       "2     205907  1.960032e+07 1970-01-01 00:00:00.019600315  1.4375\n",
       "3     205912  1.960040e+07 1970-01-01 00:00:00.019600401  0.7500\n",
       "4     205920  1.960052e+07 1970-01-01 00:00:00.019600515  1.6250"
      ]
     },
     "metadata": {},
     "output_type": "display_data"
    }
   ],
   "source": [
    "df_pay['TPQDATE']=pd.to_datetime(df_pay['TPQDATE'],format='%Y-%m-%d')\n",
    "display(df_pay.head())"
   ]
  },
  {
   "cell_type": "markdown",
   "id": "100386b3",
   "metadata": {},
   "source": [
    "# Select data\n",
    "\n",
    "Retain: non-flower bonds, taxable bonds, bonds whose time series end because of maturity.\n",
    "Read CRSP Treasury data manual for more detail. "
   ]
  },
  {
   "cell_type": "code",
   "execution_count": 34,
   "id": "bcf1814e",
   "metadata": {},
   "outputs": [
    {
     "name": "stdout",
     "output_type": "stream",
     "text": [
      "Unique values of IWHY: [nan]\n",
      "number of bonds that are still quotes (IWHY=0): 0\n",
      "number of bonds that have matured (IWHY=1): 0\n",
      "number of bonds that are called (IWHY=2): 0\n",
      "number of bonds that are all exchanged (IWHY=3): 0\n",
      "Sources no longer quote issue (IWHY=4): 0\n",
      "\n",
      "number of bonds with ITYPE=1: 0\n",
      "number of bonds with ITYPE=2: 0\n",
      "number of bonds with ITYPE=3: 0\n",
      "number of bonds with ITYPE=4: 0\n"
     ]
    }
   ],
   "source": [
    "# check how time-series end\n",
    "print('Unique values of IWHY: {}'.format(df_info_dly.IWHY.unique()))\n",
    "# bond that are still quotes 0 (used to be np.nan)\n",
    "print('number of bonds that are still quotes (IWHY=0): {}'.format((df_info_dly.IWHY==0).sum()))\n",
    "#bonds that have matured (iwhy==1)\n",
    "print('number of bonds that have matured (IWHY=1): {}'.format((df_info_dly.IWHY==1).sum()))\n",
    "#bonds that are called for redemption (iwhy==2)\n",
    "print('number of bonds that are called (IWHY=2): {}'.format((df_info_dly.IWHY==2).sum()))\n",
    "#bonds that are all exchanged (iwhy==3)\n",
    "print('number of bonds that are all exchanged (IWHY=3): {}'.format((df_info_dly.IWHY==3).sum()))\n",
    "#Sources no longer quote issue (iwhy==4)\n",
    "print('Sources no longer quote issue (IWHY=4): {}\\n'.format((df_info_dly.IWHY==4).sum()))\n",
    "\n",
    "# check types of securities\n",
    "for itype in [1,2,3,4]:\n",
    "    print('number of bonds with ITYPE={}: {}'.format(itype, (df_info_dly.ITYPE==itype).sum()))"
   ]
  },
  {
   "cell_type": "code",
   "execution_count": 40,
   "id": "60c2cb3b",
   "metadata": {},
   "outputs": [
    {
     "ename": "AttributeError",
     "evalue": "'DataFrame' object has no attribute 'KYTREASNO'",
     "output_type": "error",
     "traceback": [
      "\u001b[1;31m---------------------------------------------------------------------------\u001b[0m",
      "\u001b[1;31mAttributeError\u001b[0m                            Traceback (most recent call last)",
      "\u001b[1;32m<ipython-input-40-3bc488a9453f>\u001b[0m in \u001b[0;36m<module>\u001b[1;34m\u001b[0m\n\u001b[0;32m      4\u001b[0m                             \u001b[1;33m(\u001b[0m\u001b[0mdf_info_dly\u001b[0m\u001b[1;33m.\u001b[0m\u001b[0mITAX\u001b[0m\u001b[1;33m==\u001b[0m\u001b[1;36m1\u001b[0m\u001b[1;33m)\u001b[0m\u001b[1;33m&\u001b[0m\u001b[0;31m\\\u001b[0m\u001b[1;33m\u001b[0m\u001b[1;33m\u001b[0m\u001b[0m\n\u001b[0;32m      5\u001b[0m                             (df_info_dly.IFLWR==1)&(df_info_dly.IWHY!=3)]\n\u001b[1;32m----> 6\u001b[1;33m \u001b[0mdf_dly_s\u001b[0m \u001b[1;33m=\u001b[0m \u001b[0mdf_dly\u001b[0m\u001b[1;33m[\u001b[0m\u001b[0mdf_dly\u001b[0m\u001b[1;33m.\u001b[0m\u001b[0mKYTREASNO\u001b[0m\u001b[1;33m.\u001b[0m\u001b[0misin\u001b[0m\u001b[1;33m(\u001b[0m\u001b[0mdf_info_dly_s\u001b[0m\u001b[1;33m.\u001b[0m\u001b[0mKYTREASNO\u001b[0m\u001b[1;33m)\u001b[0m\u001b[1;33m]\u001b[0m\u001b[1;33m\u001b[0m\u001b[1;33m\u001b[0m\u001b[0m\n\u001b[0m\u001b[0;32m      7\u001b[0m \u001b[0mdf_pay_s\u001b[0m \u001b[1;33m=\u001b[0m \u001b[0mdf_pay\u001b[0m\u001b[1;33m[\u001b[0m\u001b[0mdf_pay\u001b[0m\u001b[1;33m.\u001b[0m\u001b[0mKYTREASNO\u001b[0m\u001b[1;33m.\u001b[0m\u001b[0misin\u001b[0m\u001b[1;33m(\u001b[0m\u001b[0mdf_info_dly_s\u001b[0m\u001b[1;33m.\u001b[0m\u001b[0mKYTREASNO\u001b[0m\u001b[1;33m)\u001b[0m\u001b[1;33m]\u001b[0m\u001b[1;33m\u001b[0m\u001b[1;33m\u001b[0m\u001b[0m\n\u001b[0;32m      8\u001b[0m \u001b[1;33m\u001b[0m\u001b[0m\n",
      "\u001b[1;32mD:\\Anaconda\\lib\\site-packages\\pandas\\core\\generic.py\u001b[0m in \u001b[0;36m__getattr__\u001b[1;34m(self, name)\u001b[0m\n\u001b[0;32m   5463\u001b[0m             \u001b[1;32mif\u001b[0m \u001b[0mself\u001b[0m\u001b[1;33m.\u001b[0m\u001b[0m_info_axis\u001b[0m\u001b[1;33m.\u001b[0m\u001b[0m_can_hold_identifiers_and_holds_name\u001b[0m\u001b[1;33m(\u001b[0m\u001b[0mname\u001b[0m\u001b[1;33m)\u001b[0m\u001b[1;33m:\u001b[0m\u001b[1;33m\u001b[0m\u001b[1;33m\u001b[0m\u001b[0m\n\u001b[0;32m   5464\u001b[0m                 \u001b[1;32mreturn\u001b[0m \u001b[0mself\u001b[0m\u001b[1;33m[\u001b[0m\u001b[0mname\u001b[0m\u001b[1;33m]\u001b[0m\u001b[1;33m\u001b[0m\u001b[1;33m\u001b[0m\u001b[0m\n\u001b[1;32m-> 5465\u001b[1;33m             \u001b[1;32mreturn\u001b[0m \u001b[0mobject\u001b[0m\u001b[1;33m.\u001b[0m\u001b[0m__getattribute__\u001b[0m\u001b[1;33m(\u001b[0m\u001b[0mself\u001b[0m\u001b[1;33m,\u001b[0m \u001b[0mname\u001b[0m\u001b[1;33m)\u001b[0m\u001b[1;33m\u001b[0m\u001b[1;33m\u001b[0m\u001b[0m\n\u001b[0m\u001b[0;32m   5466\u001b[0m \u001b[1;33m\u001b[0m\u001b[0m\n\u001b[0;32m   5467\u001b[0m     \u001b[1;32mdef\u001b[0m \u001b[0m__setattr__\u001b[0m\u001b[1;33m(\u001b[0m\u001b[0mself\u001b[0m\u001b[1;33m,\u001b[0m \u001b[0mname\u001b[0m\u001b[1;33m:\u001b[0m \u001b[0mstr\u001b[0m\u001b[1;33m,\u001b[0m \u001b[0mvalue\u001b[0m\u001b[1;33m)\u001b[0m \u001b[1;33m->\u001b[0m \u001b[1;32mNone\u001b[0m\u001b[1;33m:\u001b[0m\u001b[1;33m\u001b[0m\u001b[1;33m\u001b[0m\u001b[0m\n",
      "\u001b[1;31mAttributeError\u001b[0m: 'DataFrame' object has no attribute 'KYTREASNO'"
     ]
    }
   ],
   "source": [
    "# keep only: nonflower, taxable bonds, bonds whose time series end because of maturity.\n",
    "# remove certificate of deposit (ITYPE=3)\n",
    "df_info_dly_s = df_info_dly[(df_info_dly.ITYPE.isin([1,2,4]))&\\\n",
    "                            (df_info_dly.ITAX==1)&\\\n",
    "                            (df_info_dly.IFLWR==1)&(df_info_dly.IWHY!=3)]\n",
    "df_dly_s = df_dly[df_dly.KYTREASNO.isin(df_info_dly_s.KYTREASNO)]\n",
    "df_pay_s = df_pay[df_pay.KYTREASNO.isin(df_info_dly_s.KYTREASNO)]\n",
    "\n",
    "# 0 means bond not matured yet\n",
    "print('IWHY in selected securities: {}'.format(df_info_dly_s.IWHY.unique()))"
   ]
  },
  {
   "cell_type": "code",
   "execution_count": 8,
   "id": "9be05d60",
   "metadata": {},
   "outputs": [
    {
     "name": "stdout",
     "output_type": "stream",
     "text": [
      "Max time to maturity in years: 30.53\n"
     ]
    }
   ],
   "source": [
    "# maximum time to maturity in the dataset\n",
    "df_info_2 = df_info_dly_s[df_info_dly_s.TDATDT>=pd.to_datetime('1961-01-01')]\n",
    "max_ttm = (df_info_2['TMATDT']-df_info_2['TDATDT']).max().days\n",
    "print('Max time to maturity in years: {:.2f}'.format(max_ttm/365))"
   ]
  },
  {
   "cell_type": "markdown",
   "id": "c12d166f",
   "metadata": {},
   "source": [
    "# Get ex-dividend mid prices"
   ]
  },
  {
   "cell_type": "code",
   "execution_count": 9,
   "id": "b956ed0f",
   "metadata": {
    "scrolled": true
   },
   "outputs": [
    {
     "name": "stderr",
     "output_type": "stream",
     "text": [
      "/tmp/ipykernel_61192/3350744440.py:2: SettingWithCopyWarning: \n",
      "A value is trying to be set on a copy of a slice from a DataFrame.\n",
      "Try using .loc[row_indexer,col_indexer] = value instead\n",
      "\n",
      "See the caveats in the documentation: https://pandas.pydata.org/pandas-docs/stable/user_guide/indexing.html#returning-a-view-versus-a-copy\n",
      "  df_dly_s['B']=df_dly_s['TDNOMPRC']+df_dly_s['TDACCINT']\n"
     ]
    }
   ],
   "source": [
    "# B is ex-dividend\n",
    "df_dly_s['B']=df_dly_s['TDNOMPRC']+df_dly_s['TDACCINT']\n",
    "# Bc is cum-dividend\n",
    "# df_dly_s['Bc']=df_dly_s['TDNOMPRC']+df_dly_s['TDACCINT']+df_dly_s['TDPDINT']"
   ]
  },
  {
   "cell_type": "code",
   "execution_count": 10,
   "id": "28c77472",
   "metadata": {},
   "outputs": [
    {
     "name": "stdout",
     "output_type": "stream",
     "text": [
      "Number of dates: 15118\n",
      "Number of securities: 5586\n"
     ]
    },
    {
     "data": {
      "application/vnd.jupyter.widget-view+json": {
       "model_id": "3e6a18e43fee4d3ea2e0c5794372bc06",
       "version_major": 2,
       "version_minor": 0
      },
      "text/plain": [
       "  0%|          | 0/5586 [00:00<?, ?it/s]"
      ]
     },
     "metadata": {},
     "output_type": "display_data"
    }
   ],
   "source": [
    "# generate a T by num_security dataframe to record prices of selected securites\n",
    "dly_caldt=df_dly_s.CALDT.unique()\n",
    "dly_kytreasno=df_dly_s.KYTREASNO.unique()\n",
    "print('Number of dates: {}\\n'\n",
    "      'Number of securities: {}'.format(len(dly_caldt),len(dly_kytreasno)))\n",
    "\n",
    "df_B=pd.DataFrame(np.nan,index=dly_caldt,columns=dly_kytreasno)\n",
    "pbar=tqdm(total=len(dly_kytreasno))\n",
    "for kytreasno in dly_kytreasno:\n",
    "    temp_caldt=df_dly_s.loc[df_dly_s.KYTREASNO==kytreasno].CALDT\n",
    "    temp_tdnomprc=df_dly_s.loc[df_dly_s.KYTREASNO==kytreasno][['B']]\n",
    "    df_B.loc[temp_caldt.values, kytreasno]=temp_tdnomprc.B.values\n",
    "    pbar.update(1)"
   ]
  },
  {
   "cell_type": "markdown",
   "id": "b32499d2",
   "metadata": {},
   "source": [
    "# Get lookup table between all dates and time indexes\n",
    "From the earliest to the latest possible dates"
   ]
  },
  {
   "cell_type": "code",
   "execution_count": 11,
   "id": "935f180b",
   "metadata": {},
   "outputs": [
    {
     "name": "stdout",
     "output_type": "stream",
     "text": [
      "T: 15118, min date: 1961-06-14 00:00:00, max date: 2021-12-31 00:00:00\n"
     ]
    }
   ],
   "source": [
    "T=len(df_B.index)\n",
    "df_t_lookup=pd.DataFrame(index=df_B.index,\\\n",
    "                         data=np.arange(0, T),columns=['t'])\n",
    "print('T: {}, min date: {}, max date: {}'.format(T, df_t_lookup.index[0],df_t_lookup.index[-1]))\n",
    "\n",
    "# get monthly lookup table\n",
    "df_t_lookup['date']=df_t_lookup.index\n",
    "df_t_lookup_monthly=df_t_lookup\\\n",
    "    .groupby(by=[df_t_lookup.index.month, df_t_lookup.index.year]).max()\\\n",
    "    .reset_index()[['t','date']]\\\n",
    "    .set_index('date')\\\n",
    "    .sort_index()\n",
    "\n",
    "df_t_lookup=df_t_lookup[['t']]"
   ]
  },
  {
   "cell_type": "markdown",
   "id": "3f9dec4e",
   "metadata": {},
   "source": [
    "# Save processed data"
   ]
  },
  {
   "cell_type": "code",
   "execution_count": 12,
   "id": "18e04b54",
   "metadata": {},
   "outputs": [],
   "source": [
    "df_B.to_pic(dir_output+'df_B.pkl')\n",
    "df_info_dly_s.to_pickle(dir_output+'df_info_dly.pkl')\n",
    "df_pay_s.to_pickle(dir_output+'df_pay.pkl')\n",
    "\n",
    "df_t_lookup.to_pickle(dir_output+'df_t_lookup_daily.pkl')\n",
    "df_t_lookup_monthly.to_pickle(dir_output+'df_t_lookup_monthly.pkl')# Get lookup table between dates and time indexes"
   ]
  }
 ],
 "metadata": {
  "kernelspec": {
   "display_name": "Python 3",
   "language": "python",
   "name": "python3"
  },
  "language_info": {
   "codemirror_mode": {
    "name": "ipython",
    "version": 3
   },
   "file_extension": ".py",
   "mimetype": "text/x-python",
   "name": "python",
   "nbconvert_exporter": "python",
   "pygments_lexer": "ipython3",
   "version": "3.8.8"
  }
 },
 "nbformat": 4,
 "nbformat_minor": 5
}
