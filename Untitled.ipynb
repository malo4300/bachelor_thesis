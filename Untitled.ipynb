{
 "cells": [
  {
   "cell_type": "code",
   "execution_count": 8,
   "id": "26faf8ba",
   "metadata": {},
   "outputs": [],
   "source": [
    "import numpy as np\n",
    "import scipy.sparse as sps "
   ]
  },
  {
   "cell_type": "code",
   "execution_count": 4,
   "id": "10ff87a7",
   "metadata": {},
   "outputs": [],
   "source": [
    "data = np.load(\"\")"
   ]
  },
  {
   "cell_type": "code",
   "execution_count": 11,
   "id": "92667f34",
   "metadata": {
    "scrolled": true
   },
   "outputs": [],
   "source": [
    "#B=np.load(dir_data+'price_{}.npy'.format(date))\n",
    "C=sps.load_npz(\"cashflow_1961-06-30.npz\").toarray()\n"
   ]
  },
  {
   "cell_type": "code",
   "execution_count": 16,
   "id": "566d3031",
   "metadata": {},
   "outputs": [],
   "source": [
    "C.shape\n",
    "np.savetxt(\"foo.csv\", C, delimiter=\",\")"
   ]
  }
 ],
 "metadata": {
  "kernelspec": {
   "display_name": "Python 3 (ipykernel)",
   "language": "python",
   "name": "python3"
  },
  "language_info": {
   "codemirror_mode": {
    "name": "ipython",
    "version": 3
   },
   "file_extension": ".py",
   "mimetype": "text/x-python",
   "name": "python",
   "nbconvert_exporter": "python",
   "pygments_lexer": "ipython3",
   "version": "3.11.0"
  }
 },
 "nbformat": 4,
 "nbformat_minor": 5
}
