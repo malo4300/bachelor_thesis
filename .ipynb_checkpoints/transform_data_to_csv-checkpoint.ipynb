{
 "cells": [
  {
   "cell_type": "code",
   "execution_count": 1,
   "id": "26faf8ba",
   "metadata": {},
   "outputs": [],
   "source": [
    "import numpy as np\n",
    "import scipy.sparse as sps \n",
    "import os"
   ]
  },
  {
   "cell_type": "code",
   "execution_count": 8,
   "id": "10ff87a7",
   "metadata": {},
   "outputs": [
    {
     "data": {
      "text/plain": [
       "['cashflow_1961-06-30.npz',\n",
       " 'cashflow_2013-12-31.npz',\n",
       " 'price_1961-06-30.npy',\n",
       " 'price_2013-12-31.npy']"
      ]
     },
     "execution_count": 8,
     "metadata": {},
     "output_type": "execute_result"
    }
   ],
   "source": [
    "path = \"data/\"\n",
    "files = os.listdir(path)"
   ]
  },
  {
   "cell_type": "code",
   "execution_count": 27,
   "id": "d0b7f921",
   "metadata": {},
   "outputs": [],
   "source": [
    "for file in files:\n",
    "    name = file\n",
    "    name = name[:name.find(\".np\")].strip()\n",
    "    if file.endswith(\"npz\"):\n",
    "        data = sps.load_npz(path + file).toarray()\n",
    "    elif file.endswith(\"npy\"):\n",
    "        data = np.load(path + file)\n",
    "    else:\n",
    "        next\n",
    "    np.savetxt(path + name + \".csv\", data, delimiter=\",\")"
   ]
  }
 ],
 "metadata": {
  "kernelspec": {
   "display_name": "Python 3",
   "language": "python",
   "name": "python3"
  },
  "language_info": {
   "codemirror_mode": {
    "name": "ipython",
    "version": 3
   },
   "file_extension": ".py",
   "mimetype": "text/x-python",
   "name": "python",
   "nbconvert_exporter": "python",
   "pygments_lexer": "ipython3",
   "version": "3.8.8"
  }
 },
 "nbformat": 4,
 "nbformat_minor": 5
}
